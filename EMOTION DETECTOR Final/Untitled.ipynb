{
 "cells": [
  {
   "cell_type": "code",
   "execution_count": 454,
   "metadata": {},
   "outputs": [],
   "source": [
    "%matplotlib inline\n",
    "import numpy as np\n",
    "import pandas as pd\n",
    "import matplotlib.pyplot as plt"
   ]
  },
  {
   "cell_type": "code",
   "execution_count": 455,
   "metadata": {},
   "outputs": [],
   "source": [
    "data=pd.read_csv(\"EMOTION.csv\")"
   ]
  },
  {
   "cell_type": "code",
   "execution_count": 456,
   "metadata": {},
   "outputs": [
    {
     "name": "stdout",
     "output_type": "stream",
     "text": [
      "(4207, 6)\n"
     ]
    }
   ],
   "source": [
    "print(data.shape)"
   ]
  },
  {
   "cell_type": "code",
   "execution_count": 457,
   "metadata": {},
   "outputs": [
    {
     "data": {
      "text/html": [
       "<div>\n",
       "<style scoped>\n",
       "    .dataframe tbody tr th:only-of-type {\n",
       "        vertical-align: middle;\n",
       "    }\n",
       "\n",
       "    .dataframe tbody tr th {\n",
       "        vertical-align: top;\n",
       "    }\n",
       "\n",
       "    .dataframe thead th {\n",
       "        text-align: right;\n",
       "    }\n",
       "</style>\n",
       "<table border=\"1\" class=\"dataframe\">\n",
       "  <thead>\n",
       "    <tr style=\"text-align: right;\">\n",
       "      <th></th>\n",
       "      <th>SYSTOLIC_PRESSURE</th>\n",
       "      <th>DIASTOLIC_PRESSURE</th>\n",
       "      <th>HEART_RATE</th>\n",
       "      <th>PULSE_RATE</th>\n",
       "      <th>BLOOD_VISCOSITY</th>\n",
       "      <th>EMOTION</th>\n",
       "    </tr>\n",
       "  </thead>\n",
       "  <tbody>\n",
       "    <tr>\n",
       "      <td>0</td>\n",
       "      <td>117</td>\n",
       "      <td>79</td>\n",
       "      <td>58</td>\n",
       "      <td>58</td>\n",
       "      <td>0.331735</td>\n",
       "      <td>HAPPY</td>\n",
       "    </tr>\n",
       "    <tr>\n",
       "      <td>1</td>\n",
       "      <td>123</td>\n",
       "      <td>77</td>\n",
       "      <td>62</td>\n",
       "      <td>62</td>\n",
       "      <td>0.307456</td>\n",
       "      <td>DEPRESSED</td>\n",
       "    </tr>\n",
       "    <tr>\n",
       "      <td>2</td>\n",
       "      <td>132</td>\n",
       "      <td>89</td>\n",
       "      <td>87</td>\n",
       "      <td>87</td>\n",
       "      <td>0.403348</td>\n",
       "      <td>STRESSED</td>\n",
       "    </tr>\n",
       "    <tr>\n",
       "      <td>3</td>\n",
       "      <td>120</td>\n",
       "      <td>81</td>\n",
       "      <td>67</td>\n",
       "      <td>67</td>\n",
       "      <td>0.338589</td>\n",
       "      <td>HAPPY</td>\n",
       "    </tr>\n",
       "    <tr>\n",
       "      <td>4</td>\n",
       "      <td>139</td>\n",
       "      <td>82</td>\n",
       "      <td>85</td>\n",
       "      <td>85</td>\n",
       "      <td>0.417814</td>\n",
       "      <td>STRESSED</td>\n",
       "    </tr>\n",
       "  </tbody>\n",
       "</table>\n",
       "</div>"
      ],
      "text/plain": [
       "   SYSTOLIC_PRESSURE  DIASTOLIC_PRESSURE  HEART_RATE  PULSE_RATE  \\\n",
       "0                117                  79          58          58   \n",
       "1                123                  77          62          62   \n",
       "2                132                  89          87          87   \n",
       "3                120                  81          67          67   \n",
       "4                139                  82          85          85   \n",
       "\n",
       "   BLOOD_VISCOSITY    EMOTION  \n",
       "0         0.331735      HAPPY  \n",
       "1         0.307456  DEPRESSED  \n",
       "2         0.403348   STRESSED  \n",
       "3         0.338589      HAPPY  \n",
       "4         0.417814   STRESSED  "
      ]
     },
     "execution_count": 457,
     "metadata": {},
     "output_type": "execute_result"
    }
   ],
   "source": [
    "data.head()"
   ]
  },
  {
   "cell_type": "code",
   "execution_count": 458,
   "metadata": {},
   "outputs": [
    {
     "data": {
      "text/plain": [
       "SYSTOLIC_PRESSURE     0\n",
       "DIASTOLIC_PRESSURE    0\n",
       "HEART_RATE            0\n",
       "PULSE_RATE            0\n",
       "BLOOD_VISCOSITY       0\n",
       "EMOTION               0\n",
       "dtype: int64"
      ]
     },
     "execution_count": 458,
     "metadata": {},
     "output_type": "execute_result"
    }
   ],
   "source": [
    "data.isnull().sum()"
   ]
  },
  {
   "cell_type": "code",
   "execution_count": 459,
   "metadata": {},
   "outputs": [
    {
     "data": {
      "text/plain": [
       "SYSTOLIC_PRESSURE       int64\n",
       "DIASTOLIC_PRESSURE      int64\n",
       "HEART_RATE              int64\n",
       "PULSE_RATE              int64\n",
       "BLOOD_VISCOSITY       float64\n",
       "EMOTION                object\n",
       "dtype: object"
      ]
     },
     "execution_count": 459,
     "metadata": {},
     "output_type": "execute_result"
    }
   ],
   "source": [
    "data.dtypes"
   ]
  },
  {
   "cell_type": "code",
   "execution_count": 460,
   "metadata": {},
   "outputs": [],
   "source": [
    "from sklearn.preprocessing import LabelEncoder\n",
    "cat_var =data.dtypes.loc[data.dtypes == 'object'].index\n",
    "le =LabelEncoder()\n",
    "for var in cat_var:\n",
    "    data[var] = le.fit_transform(data[var])"
   ]
  },
  {
   "cell_type": "code",
   "execution_count": 461,
   "metadata": {},
   "outputs": [
    {
     "data": {
      "text/html": [
       "<div>\n",
       "<style scoped>\n",
       "    .dataframe tbody tr th:only-of-type {\n",
       "        vertical-align: middle;\n",
       "    }\n",
       "\n",
       "    .dataframe tbody tr th {\n",
       "        vertical-align: top;\n",
       "    }\n",
       "\n",
       "    .dataframe thead th {\n",
       "        text-align: right;\n",
       "    }\n",
       "</style>\n",
       "<table border=\"1\" class=\"dataframe\">\n",
       "  <thead>\n",
       "    <tr style=\"text-align: right;\">\n",
       "      <th></th>\n",
       "      <th>SYSTOLIC_PRESSURE</th>\n",
       "      <th>DIASTOLIC_PRESSURE</th>\n",
       "      <th>HEART_RATE</th>\n",
       "      <th>PULSE_RATE</th>\n",
       "      <th>BLOOD_VISCOSITY</th>\n",
       "      <th>EMOTION</th>\n",
       "    </tr>\n",
       "  </thead>\n",
       "  <tbody>\n",
       "    <tr>\n",
       "      <td>0</td>\n",
       "      <td>117</td>\n",
       "      <td>79</td>\n",
       "      <td>58</td>\n",
       "      <td>58</td>\n",
       "      <td>0.331735</td>\n",
       "      <td>2</td>\n",
       "    </tr>\n",
       "    <tr>\n",
       "      <td>1</td>\n",
       "      <td>123</td>\n",
       "      <td>77</td>\n",
       "      <td>62</td>\n",
       "      <td>62</td>\n",
       "      <td>0.307456</td>\n",
       "      <td>1</td>\n",
       "    </tr>\n",
       "    <tr>\n",
       "      <td>2</td>\n",
       "      <td>132</td>\n",
       "      <td>89</td>\n",
       "      <td>87</td>\n",
       "      <td>87</td>\n",
       "      <td>0.403348</td>\n",
       "      <td>4</td>\n",
       "    </tr>\n",
       "    <tr>\n",
       "      <td>3</td>\n",
       "      <td>120</td>\n",
       "      <td>81</td>\n",
       "      <td>67</td>\n",
       "      <td>67</td>\n",
       "      <td>0.338589</td>\n",
       "      <td>2</td>\n",
       "    </tr>\n",
       "    <tr>\n",
       "      <td>4</td>\n",
       "      <td>139</td>\n",
       "      <td>82</td>\n",
       "      <td>85</td>\n",
       "      <td>85</td>\n",
       "      <td>0.417814</td>\n",
       "      <td>4</td>\n",
       "    </tr>\n",
       "  </tbody>\n",
       "</table>\n",
       "</div>"
      ],
      "text/plain": [
       "   SYSTOLIC_PRESSURE  DIASTOLIC_PRESSURE  HEART_RATE  PULSE_RATE  \\\n",
       "0                117                  79          58          58   \n",
       "1                123                  77          62          62   \n",
       "2                132                  89          87          87   \n",
       "3                120                  81          67          67   \n",
       "4                139                  82          85          85   \n",
       "\n",
       "   BLOOD_VISCOSITY  EMOTION  \n",
       "0         0.331735        2  \n",
       "1         0.307456        1  \n",
       "2         0.403348        4  \n",
       "3         0.338589        2  \n",
       "4         0.417814        4  "
      ]
     },
     "execution_count": 461,
     "metadata": {},
     "output_type": "execute_result"
    }
   ],
   "source": [
    "data.head()"
   ]
  },
  {
   "cell_type": "code",
   "execution_count": 482,
   "metadata": {},
   "outputs": [],
   "source": [
    "x=data[['SYSTOLIC_PRESSURE', 'DIASTOLIC_PRESSURE', 'HEART_RATE',\n",
    "       'PULSE_RATE','BLOOD_VISCOSITY']]\n",
    "y=data[['EMOTION']]\n"
   ]
  },
  {
   "cell_type": "code",
   "execution_count": 483,
   "metadata": {},
   "outputs": [
    {
     "data": {
      "text/plain": [
       "Index(['SYSTOLIC_PRESSURE', 'DIASTOLIC_PRESSURE', 'HEART_RATE', 'PULSE_RATE',\n",
       "       'BLOOD_VISCOSITY'],\n",
       "      dtype='object')"
      ]
     },
     "execution_count": 483,
     "metadata": {},
     "output_type": "execute_result"
    }
   ],
   "source": [
    "x.columns"
   ]
  },
  {
   "cell_type": "code",
   "execution_count": 484,
   "metadata": {},
   "outputs": [
    {
     "data": {
      "text/plain": [
       "Index(['EMOTION'], dtype='object')"
      ]
     },
     "execution_count": 484,
     "metadata": {},
     "output_type": "execute_result"
    }
   ],
   "source": [
    "y.columns"
   ]
  },
  {
   "cell_type": "code",
   "execution_count": null,
   "metadata": {},
   "outputs": [],
   "source": [
    "from sklearn.model_selection import train_test_split\n",
    "xtrain,xtest,ytrain,ytest=train_test_split(x,y,test_size=0.7,random_state=75)"
   ]
  },
  {
   "cell_type": "code",
   "execution_count": null,
   "metadata": {},
   "outputs": [],
   "source": [
    "from sklearn.linear_model import LogisticRegression\n",
    "model = LogisticRegression()\n",
    "model.fit(xtrain,ytrain)"
   ]
  },
  {
   "cell_type": "code",
   "execution_count": null,
   "metadata": {},
   "outputs": [],
   "source": [
    "predicted_train = model.predict(xtrain)\n",
    "truevalue = ytrain"
   ]
  },
  {
   "cell_type": "code",
   "execution_count": null,
   "metadata": {},
   "outputs": [],
   "source": [
    "from sklearn.metrics import accuracy_score\n",
    "print(\"Train Accuracy {:.2%}\".format(accuracy_score(truevalue,predicted_train)))"
   ]
  },
  {
   "cell_type": "code",
   "execution_count": 489,
   "metadata": {
    "scrolled": true
   },
   "outputs": [
    {
     "data": {
      "text/plain": [
       "(1262, 5)"
      ]
     },
     "execution_count": 489,
     "metadata": {},
     "output_type": "execute_result"
    }
   ],
   "source": [
    "xtrain.shape"
   ]
  },
  {
   "cell_type": "code",
   "execution_count": 470,
   "metadata": {},
   "outputs": [
    {
     "data": {
      "text/plain": [
       "(3366, 4)"
      ]
     },
     "execution_count": 470,
     "metadata": {},
     "output_type": "execute_result"
    }
   ],
   "source": [
    "xtest.shape"
   ]
  },
  {
   "cell_type": "code",
   "execution_count": 471,
   "metadata": {},
   "outputs": [
    {
     "data": {
      "text/plain": [
       "(841, 1)"
      ]
     },
     "execution_count": 471,
     "metadata": {},
     "output_type": "execute_result"
    }
   ],
   "source": [
    "ytrain.shape"
   ]
  },
  {
   "cell_type": "code",
   "execution_count": 472,
   "metadata": {},
   "outputs": [
    {
     "data": {
      "text/plain": [
       "(3366, 1)"
      ]
     },
     "execution_count": 472,
     "metadata": {},
     "output_type": "execute_result"
    }
   ],
   "source": [
    "ytest.shape"
   ]
  },
  {
   "cell_type": "code",
   "execution_count": null,
   "metadata": {},
   "outputs": [],
   "source": []
  },
  {
   "cell_type": "code",
   "execution_count": null,
   "metadata": {},
   "outputs": [],
   "source": []
  },
  {
   "cell_type": "code",
   "execution_count": null,
   "metadata": {},
   "outputs": [],
   "source": []
  },
  {
   "cell_type": "code",
   "execution_count": null,
   "metadata": {},
   "outputs": [],
   "source": []
  },
  {
   "cell_type": "code",
   "execution_count": null,
   "metadata": {},
   "outputs": [],
   "source": []
  },
  {
   "cell_type": "code",
   "execution_count": null,
   "metadata": {},
   "outputs": [],
   "source": []
  }
 ],
 "metadata": {
  "kernelspec": {
   "display_name": "Python 3",
   "language": "python",
   "name": "python3"
  },
  "language_info": {
   "codemirror_mode": {
    "name": "ipython",
    "version": 3
   },
   "file_extension": ".py",
   "mimetype": "text/x-python",
   "name": "python",
   "nbconvert_exporter": "python",
   "pygments_lexer": "ipython3",
   "version": "3.7.4"
  }
 },
 "nbformat": 4,
 "nbformat_minor": 2
}
